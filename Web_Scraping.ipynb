{
 "cells": [
  {
   "cell_type": "markdown",
   "id": "ec08655c",
   "metadata": {},
   "source": [
    "# Run This and Enter Date\n"
   ]
  },
  {
   "cell_type": "code",
   "execution_count": 34,
   "id": "bfd59723",
   "metadata": {},
   "outputs": [],
   "source": [
    "import requests\n",
    "import pandas as pd\n",
    "import os\n",
    "import openpyxl\n",
    "# Use a session to maintain headers/cookies\n",
    "session = requests.Session()\n",
    "wb=openpyxl.Workbook()\n",
    "commodity_data = {}\n",
    "date = input(\"Enter the date (MM/DD/YYYY): \")\n",
    "\n",
    "# Set headers to fully mimic a browser\n",
    "session.headers.update({\n",
    "    \"User-Agent\": \"Mozilla/5.0 (Windows NT 10.0; Win64; x64)\",\n",
    "    \"Accept\": \"application/json, text/javascript, */*; q=0.01\",\n",
    "    \"Accept-Language\": \"en-US,en;q=0.9\",\n",
    "    \"Referer\": \"https://www.cmegroup.com/markets/agriculture/grains/wheat.settlements.html\",\n",
    "    \"X-Requested-With\": \"XMLHttpRequest\",\n",
    "    \"Connection\": \"keep-alive\",\n",
    "    \"Origin\": \"https://www.cmegroup.com\",\n",
    "    \"Host\": \"www.cmegroup.com\"\n",
    "})\n",
    "\n",
    "product_codes = {\"Corn\":300,\"Soybeans\":320,\"Soybean Meal\":310}\n",
    "product_dfs = {}\n",
    "\n",
    "\n",
    "\n",
    "os.makedirs(\"Scraped_Data\", exist_ok = True)\n",
    "\n",
    "for product, code in product_codes.items():\n",
    "# CME API endpoint and parameters\n",
    "    date = date.replace(\"-\",\"/\")\n",
    "    url = f\"https://www.cmegroup.com/CmeWS/mvc/Settlements/Futures/Settlements/{code}/FUT\"\n",
    "    params = {\n",
    "        \"strategy\": \"DEFAULT\",\n",
    "        \"tradeDate\": date,\n",
    "        \"pageSize\": 500,\n",
    "        \"isProtected\": \"\",\n",
    "        \"_t\": \"1751224455214\"  # Optional random number\n",
    "    }\n",
    "\n",
    "    # Send the request\n",
    "    response = session.get(url, params=params)\n",
    "    response.raise_for_status()  # This will raise error if still blocked\n",
    "\n",
    "    # Parse the response\n",
    "    data = response.json()\n",
    "    df = pd.DataFrame(data[\"settlements\"])\n",
    "    df = df[[\"month\", \"settle\",'change']]\n",
    "    df.set_index(\"month\",inplace=True)\n",
    "    df.drop(index=\"Total\")\n",
    "    product_dfs[f\"{product}\"] = df\n",
    "date = date.replace(\"/\",\"-\")\n",
    "excel_path = f\"Scraped_Data/{date}.xlsx\"\n",
    "with pd.ExcelWriter(excel_path,engine='openpyxl') as writer:\n",
    "    for product ,df in product_dfs.items():\n",
    "        df.to_excel(writer,sheet_name=f\"{product}\")\n",
    "\n"
   ]
  }
 ],
 "metadata": {
  "kernelspec": {
   "display_name": ".venv",
   "language": "python",
   "name": "python3"
  },
  "language_info": {
   "codemirror_mode": {
    "name": "ipython",
    "version": 3
   },
   "file_extension": ".py",
   "mimetype": "text/x-python",
   "name": "python",
   "nbconvert_exporter": "python",
   "pygments_lexer": "ipython3",
   "version": "3.13.5"
  }
 },
 "nbformat": 4,
 "nbformat_minor": 5
}
