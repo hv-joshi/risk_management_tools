{
 "cells": [
  {
   "cell_type": "markdown",
   "id": "756206cd",
   "metadata": {},
   "source": [
    "# Prerequisites"
   ]
  },
  {
   "cell_type": "code",
   "execution_count": null,
   "id": "f6623256",
   "metadata": {},
   "outputs": [],
   "source": [
    "import pandas as pd\n",
    "import numpy as np\n",
    "import os\n",
    "import openpyxl"
   ]
  },
  {
   "cell_type": "code",
   "execution_count": null,
   "id": "3113e86d",
   "metadata": {},
   "outputs": [],
   "source": [
    "data = pd.read_csv('today.csv')"
   ]
  },
  {
   "cell_type": "markdown",
   "id": "50ac909c",
   "metadata": {},
   "source": [
    "## Cleaning the File"
   ]
  },
  {
   "cell_type": "markdown",
   "id": "86e98ec7",
   "metadata": {},
   "source": [
    "### Date Formatting"
   ]
  },
  {
   "cell_type": "code",
   "execution_count": null,
   "id": "7d616803",
   "metadata": {},
   "outputs": [],
   "source": [
    "cols = ['Date', 'Shipment Month', 'Terminal Month', 'M2M Terminal Month']\n",
    "for i in cols:\n",
    "    formatted_dates = pd.to_datetime(data[i], format='mixed', errors='coerce')\n",
    "    data[i] = formatted_dates"
   ]
  },
  {
   "cell_type": "markdown",
   "id": "b29107a8",
   "metadata": {},
   "source": [
    "# Making Pivot Tables"
   ]
  },
  {
   "cell_type": "markdown",
   "id": "da99f8d8",
   "metadata": {},
   "source": [
    "## Pivots for Groups Of Units"
   ]
  },
  {
   "cell_type": "code",
   "execution_count": null,
   "id": "12ffc8b7",
   "metadata": {},
   "outputs": [],
   "source": [
    "group = input(\"Enter the units you want to group (comma separated): \")\n",
    "group_list = group.split(',')\n",
    "group = [i.strip() for i in group_list]\n",
    "print(f\"Grouping the following units: {group}\")\n",
    "group_data = data[data['Unit'].isin(group_list)]\n",
    "name = input(\"Enter a name for the group: \")\n",
    "os.makedirs(f\"Group Files/{name}\", exist_ok=True)\n",
    "group_data.to_csv(f\"Group Files/{name}/unit_data_today.csv\", index=False)"
   ]
  },
  {
   "cell_type": "markdown",
   "id": "06ee2d2c",
   "metadata": {},
   "source": [
    "### Outright for Group"
   ]
  },
  {
   "cell_type": "code",
   "execution_count": null,
   "id": "165e417b",
   "metadata": {},
   "outputs": [],
   "source": [
    "unit_data = pd.read_csv(f\"Group Files/{name}/unit_data_today.csv\")\n",
    "filter_data = unit_data[~unit_data['Trade Type'].isin(['FX','FX_BK'])]\n",
    "pivot_table = filter_data.pivot_table(\n",
    "    columns='M2M Terminal Month',\n",
    "    index='Trade Type',\n",
    "    values='Qty Exposure',\n",
    "    aggfunc='sum',\n",
    "    margins=True,\n",
    "    margins_name='Grand Total',\n",
    ")\n",
    "outright_pivot_table = pivot_table.applymap(lambda x: f\"{x:,.0f}\" if pd.notnull(x) else \"0\")"
   ]
  },
  {
   "cell_type": "markdown",
   "id": "a2f3eb31",
   "metadata": {},
   "source": [
    "### Basis Position for Each Group"
   ]
  },
  {
   "cell_type": "code",
   "execution_count": null,
   "id": "a2438995",
   "metadata": {},
   "outputs": [],
   "source": [
    "unit_data = pd.read_csv(f\"Group Files/{name}/unit_data_today.csv\")\n",
    "filter_data = unit_data[unit_data['Transaction Type'].isin(['PHY'])]\n",
    "pivot_table = filter_data.pivot_table(\n",
    "    columns='Shipment Month',\n",
    "    index='Trade Type',\n",
    "    values='Delta Quantity',\n",
    "    aggfunc='sum',\n",
    "    margins=True,\n",
    "    margins_name='Grand Total',\n",
    ")\n",
    "basis_pivot_table = pivot_table.applymap(lambda x: f\"{x:,.0f}\" if pd.notnull(x) else \"0\")"
   ]
  },
  {
   "cell_type": "markdown",
   "id": "08d515c4",
   "metadata": {},
   "source": [
    "### M2M Currency Risk for Each Group"
   ]
  },
  {
   "cell_type": "code",
   "execution_count": null,
   "id": "e81d7256",
   "metadata": {},
   "outputs": [],
   "source": [
    "unit_data = pd.read_csv(f\"Group Files/{name}/unit_data_today.csv\")\n",
    "filter_data = unit_data[unit_data['Transaction Type'].isin(['PHY'])]\n",
    "pivot_table = filter_data.pivot_table(\n",
    "    columns='Shipment Month',\n",
    "    index='Trade Type',\n",
    "    values='M2M Currency Risk',\n",
    "    aggfunc='sum',\n",
    "    margins=True,\n",
    "    margins_name='Grand Total',\n",
    ")\n",
    "m2mcurr_pivot_table = pivot_table.applymap(lambda x: f\"{x:,.0f}\" if pd.notnull(x) else \"0\")"
   ]
  },
  {
   "cell_type": "markdown",
   "id": "4156fd06",
   "metadata": {},
   "source": [
    "### Euro Exposure for Each Group"
   ]
  },
  {
   "cell_type": "code",
   "execution_count": null,
   "id": "0c305c55",
   "metadata": {},
   "outputs": [],
   "source": [
    "unit_data = pd.read_csv(f\"Group Files/{name}/unit_data_today.csv\")\n",
    "\n",
    "# Filter data for Euro Exposure\n",
    "filter_data = unit_data[(unit_data['Contract Currency'] == 'EUR') & (unit_data['Transaction Type'] == 'PHY')]\n",
    "filter_data2 = unit_data[(unit_data['Exch'] == 'EOP') & (unit_data['Trade Type'].isin(['FUT', 'CALL', 'PUT']))]\n",
    "filter_data3 = unit_data[(unit_data['Contract Currency'] == 'EUR') & (unit_data['Trade Type']== 'FX')]\n",
    "combined = pd.concat([filter_data, filter_data2, filter_data3], ignore_index=True)\n",
    "combined_unique = combined.drop_duplicates()\n",
    "combined_unique[\"Exposure\"] = filter_data['Delta Quantity'] * filter_data['Price'] * -1\n",
    "\n",
    "\n",
    "pivot_table = combined_unique.pivot_table(\n",
    "    columns='Shipment Month',\n",
    "    index='Trade Type',\n",
    "    values='Exposure',\n",
    "    aggfunc='sum',\n",
    "    margins=True,\n",
    "    margins_name='Grand Total',\n",
    ")\n",
    "eurexp_pivot_table = pivot_table.applymap(lambda x: f\"{x:,.0f}\" if pd.notnull(x) else \"0\")"
   ]
  },
  {
   "cell_type": "code",
   "execution_count": 10,
   "id": "ddb3e868",
   "metadata": {},
   "outputs": [],
   "source": [
    "wb = openpyxl.Workbook()\n",
    "excel_path = f\"Group Files/{name}/Position_Pivots.xlsx\"\n",
    "\n",
    "with pd.ExcelWriter(excel_path,engine='openpyxl') as writer:\n",
    "\n",
    "    outright_pivot_table.to_excel(writer,sheet_name='Outright Position')\n",
    "    basis_pivot_table.to_excel(writer,sheet_name='Basis Position')\n",
    "    m2mcurr_pivot_table.to_excel(writer,sheet_name='M2M Currency Risk Position')\n",
    "    eurexp_pivot_table.to_excel(writer,sheet_name='Euro Exposure Position')"
   ]
  }
 ],
 "metadata": {
  "kernelspec": {
   "display_name": ".venv",
   "language": "python",
   "name": "python3"
  },
  "language_info": {
   "codemirror_mode": {
    "name": "ipython",
    "version": 3
   },
   "file_extension": ".py",
   "mimetype": "text/x-python",
   "name": "python",
   "nbconvert_exporter": "python",
   "pygments_lexer": "ipython3",
   "version": "3.13.5"
  }
 },
 "nbformat": 4,
 "nbformat_minor": 5
}
