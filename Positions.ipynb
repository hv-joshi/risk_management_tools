{
 "cells": [
  {
   "cell_type": "markdown",
   "id": "756206cd",
   "metadata": {},
   "source": [
    "# Prerequisites"
   ]
  },
  {
   "cell_type": "code",
   "execution_count": null,
   "id": "f6623256",
   "metadata": {},
   "outputs": [],
   "source": [
    "import pandas as pd\n",
    "import numpy as np\n",
    "import os\n",
    "import openpyxl"
   ]
  },
  {
   "cell_type": "code",
   "execution_count": null,
   "id": "3113e86d",
   "metadata": {},
   "outputs": [
    {
     "name": "stderr",
     "output_type": "stream",
     "text": [
      "C:\\Users\\harsh\\AppData\\Local\\Temp\\ipykernel_5512\\1851084234.py:1: DtypeWarning: Columns (51,59,61,62,63,64,71,72,73,75,76,77,83,85,90,95,96,99,104,109,112) have mixed types. Specify dtype option on import or set low_memory=False.\n",
      "  data = pd.read_csv('today.csv')\n"
     ]
    },
    {
     "data": {
      "application/vnd.microsoft.datawrangler.viewer.v0+json": {
       "columns": [
        {
         "name": "index",
         "rawType": "int64",
         "type": "integer"
        },
        {
         "name": "Product",
         "rawType": "object",
         "type": "string"
        },
        {
         "name": "Vessel__Strategy",
         "rawType": "object",
         "type": "string"
        },
        {
         "name": "Unit",
         "rawType": "object",
         "type": "string"
        },
        {
         "name": "OPS Unit",
         "rawType": "object",
         "type": "string"
        },
        {
         "name": "ORSUnit",
         "rawType": "object",
         "type": "string"
        },
        {
         "name": "Date",
         "rawType": "object",
         "type": "string"
        },
        {
         "name": "Trade/OPS Ref",
         "rawType": "object",
         "type": "string"
        },
        {
         "name": "Party",
         "rawType": "object",
         "type": "unknown"
        },
        {
         "name": "Party Ref",
         "rawType": "object",
         "type": "unknown"
        },
        {
         "name": "Grade",
         "rawType": "object",
         "type": "unknown"
        },
        {
         "name": "Shipment Month",
         "rawType": "object",
         "type": "string"
        },
        {
         "name": "Exch",
         "rawType": "object",
         "type": "string"
        },
        {
         "name": "Terminal Month",
         "rawType": "object",
         "type": "string"
        },
        {
         "name": "Strike",
         "rawType": "float64",
         "type": "float"
        },
        {
         "name": "Transaction Type",
         "rawType": "object",
         "type": "string"
        },
        {
         "name": "Trade Type",
         "rawType": "object",
         "type": "string"
        },
        {
         "name": "Quantity",
         "rawType": "float64",
         "type": "float"
        },
        {
         "name": "Deltamid",
         "rawType": "float64",
         "type": "float"
        },
        {
         "name": "Delta Quantity",
         "rawType": "float64",
         "type": "float"
        },
        {
         "name": "Diff",
         "rawType": "float64",
         "type": "float"
        },
        {
         "name": "Futures Rate",
         "rawType": "float64",
         "type": "float"
        },
        {
         "name": "Price",
         "rawType": "float64",
         "type": "float"
        },
        {
         "name": "US$/Ton",
         "rawType": "float64",
         "type": "float"
        },
        {
         "name": "Cost",
         "rawType": "float64",
         "type": "float"
        },
        {
         "name": "FOB Price",
         "rawType": "float64",
         "type": "float"
        },
        {
         "name": "Market Rate",
         "rawType": "float64",
         "type": "float"
        },
        {
         "name": "Market Diff",
         "rawType": "float64",
         "type": "float"
        },
        {
         "name": "US$ Market Price",
         "rawType": "float64",
         "type": "float"
        },
        {
         "name": "Total FOB Cost",
         "rawType": "float64",
         "type": "float"
        },
        {
         "name": "Market Value",
         "rawType": "float64",
         "type": "float"
        },
        {
         "name": "m2m",
         "rawType": "float64",
         "type": "float"
        },
        {
         "name": "Net Physical",
         "rawType": "float64",
         "type": "float"
        },
        {
         "name": "Net Differential",
         "rawType": "float64",
         "type": "float"
        },
        {
         "name": "Net Fixed",
         "rawType": "float64",
         "type": "float"
        },
        {
         "name": "Net Derivatives",
         "rawType": "float64",
         "type": "float"
        },
        {
         "name": "Outright Price",
         "rawType": "float64",
         "type": "float"
        },
        {
         "name": "Basis",
         "rawType": "int64",
         "type": "integer"
        },
        {
         "name": "Insurance",
         "rawType": "float64",
         "type": "float"
        },
        {
         "name": "Freight",
         "rawType": "float64",
         "type": "float"
        },
        {
         "name": "C___F Exp",
         "rawType": "float64",
         "type": "float"
        },
        {
         "name": "Wt Loss",
         "rawType": "float64",
         "type": "float"
        },
        {
         "name": "Addl Int",
         "rawType": "float64",
         "type": "float"
        },
        {
         "name": "Commission",
         "rawType": "float64",
         "type": "float"
        },
        {
         "name": "Contract Terms",
         "rawType": "object",
         "type": "unknown"
        },
        {
         "name": "Contract Currency",
         "rawType": "object",
         "type": "string"
        },
        {
         "name": "pos",
         "rawType": "object",
         "type": "unknown"
        },
        {
         "name": "pod",
         "rawType": "object",
         "type": "unknown"
        },
        {
         "name": "POD Country",
         "rawType": "object",
         "type": "unknown"
        },
        {
         "name": "SPeriod",
         "rawType": "object",
         "type": "unknown"
        },
        {
         "name": "Group Party",
         "rawType": "object",
         "type": "unknown"
        },
        {
         "name": "Risk Avl",
         "rawType": "object",
         "type": "unknown"
        },
        {
         "name": "Washout Date",
         "rawType": "object",
         "type": "unknown"
        },
        {
         "name": "Risk Report Qty",
         "rawType": "float64",
         "type": "float"
        },
        {
         "name": "Invoiced Qty",
         "rawType": "float64",
         "type": "float"
        },
        {
         "name": "Purchases Type",
         "rawType": "object",
         "type": "string"
        },
        {
         "name": "Entry Date",
         "rawType": "object",
         "type": "string"
        },
        {
         "name": "Ship From Date",
         "rawType": "object",
         "type": "unknown"
        },
        {
         "name": "Ship To Date",
         "rawType": "object",
         "type": "unknown"
        },
        {
         "name": "M2M Terminal Month",
         "rawType": "object",
         "type": "unknown"
        },
        {
         "name": "Grade Type",
         "rawType": "object",
         "type": "unknown"
        },
        {
         "name": "Market Zone",
         "rawType": "object",
         "type": "unknown"
        },
        {
         "name": "Strategy Unit",
         "rawType": "object",
         "type": "unknown"
        },
        {
         "name": "Strategy Trader",
         "rawType": "object",
         "type": "unknown"
        },
        {
         "name": "Strategy Type",
         "rawType": "object",
         "type": "unknown"
        },
        {
         "name": "Vessel Name",
         "rawType": "object",
         "type": "unknown"
        },
        {
         "name": "Final Freight",
         "rawType": "float64",
         "type": "float"
        },
        {
         "name": "OPS Product",
         "rawType": "object",
         "type": "string"
        },
        {
         "name": "Exposure Currency",
         "rawType": "object",
         "type": "unknown"
        },
        {
         "name": "Grade Origin",
         "rawType": "object",
         "type": "unknown"
        },
        {
         "name": "Trader",
         "rawType": "object",
         "type": "unknown"
        },
        {
         "name": "Freight Exp",
         "rawType": "object",
         "type": "string"
        },
        {
         "name": "Phy Reference",
         "rawType": "object",
         "type": "string"
        },
        {
         "name": "Link Status",
         "rawType": "object",
         "type": "unknown"
        },
        {
         "name": "Act Terminal Month",
         "rawType": "object",
         "type": "unknown"
        },
        {
         "name": "Act Shipment Month",
         "rawType": "object",
         "type": "unknown"
        },
        {
         "name": "Linked Purchases Trade",
         "rawType": "object",
         "type": "unknown"
        },
        {
         "name": "Val Sale Trade",
         "rawType": "object",
         "type": "unknown"
        },
        {
         "name": "Linked Sale Trade",
         "rawType": "object",
         "type": "unknown"
        },
        {
         "name": "Linked Quantity",
         "rawType": "float64",
         "type": "float"
        },
        {
         "name": "M2M Currency Risk",
         "rawType": "float64",
         "type": "float"
        },
        {
         "name": "Exp Cur",
         "rawType": "object",
         "type": "string"
        },
        {
         "name": "Tolerance",
         "rawType": "float64",
         "type": "float"
        },
        {
         "name": "Remarks",
         "rawType": "object",
         "type": "string"
        },
        {
         "name": "Valuation Basis",
         "rawType": "object",
         "type": "unknown"
        },
        {
         "name": "Actual POS",
         "rawType": "object",
         "type": "unknown"
        },
        {
         "name": "Strategy Product",
         "rawType": "object",
         "type": "unknown"
        },
        {
         "name": "New Fx Rate",
         "rawType": "float64",
         "type": "float"
        },
        {
         "name": "fv",
         "rawType": "float64",
         "type": "float"
        },
        {
         "name": "Entity",
         "rawType": "object",
         "type": "string"
        },
        {
         "name": "Del Month",
         "rawType": "object",
         "type": "unknown"
        },
        {
         "name": "Parent Strategy",
         "rawType": "object",
         "type": "unknown"
        },
        {
         "name": "Forward Rate",
         "rawType": "float64",
         "type": "float"
        },
        {
         "name": "Forward M2M",
         "rawType": "float64",
         "type": "float"
        },
        {
         "name": "Posting Status",
         "rawType": "object",
         "type": "unknown"
        },
        {
         "name": "Paper Trade",
         "rawType": "object",
         "type": "string"
        },
        {
         "name": "Paper Trade Type",
         "rawType": "object",
         "type": "unknown"
        },
        {
         "name": "Linked Cover no",
         "rawType": "object",
         "type": "string"
        },
        {
         "name": "Payment Term",
         "rawType": "object",
         "type": "unknown"
        },
        {
         "name": "Party Country",
         "rawType": "object",
         "type": "unknown"
        },
        {
         "name": "Grade Exchange",
         "rawType": "object",
         "type": "unknown"
        },
        {
         "name": "Grade Today Rate",
         "rawType": "float64",
         "type": "float"
        },
        {
         "name": "Grade Yesterday Rate",
         "rawType": "float64",
         "type": "float"
        },
        {
         "name": "DoD M2M",
         "rawType": "float64",
         "type": "float"
        },
        {
         "name": "Qty Exposure",
         "rawType": "float64",
         "type": "float"
        },
        {
         "name": "Budget Ref no",
         "rawType": "object",
         "type": "unknown"
        },
        {
         "name": "Broker",
         "rawType": "object",
         "type": "unknown"
        },
        {
         "name": "Broker Reference",
         "rawType": "object",
         "type": "unknown"
        },
        {
         "name": "Party Code",
         "rawType": "object",
         "type": "unknown"
        },
        {
         "name": "Fixing Date",
         "rawType": "object",
         "type": "string"
        },
        {
         "name": "Grade Optionality",
         "rawType": "object",
         "type": "unknown"
        },
        {
         "name": "Design",
         "rawType": "int64",
         "type": "integer"
        },
        {
         "name": "Provisional Price",
         "rawType": "float64",
         "type": "float"
        },
        {
         "name": "BL Date",
         "rawType": "object",
         "type": "unknown"
        },
        {
         "name": "BL Quantity",
         "rawType": "float64",
         "type": "float"
        },
        {
         "name": "Outport",
         "rawType": "object",
         "type": "unknown"
        }
       ],
       "ref": "09fc5ec3-59f1-4ba8-9489-0de895e93105",
       "rows": [
        [
         "0",
         "ANIPRO",
         "000 - UnLinked",
         "CFM",
         "CFM",
         "CFM",
         "2025-04-30 00:00:00",
         "5141000011693",
         null,
         null,
         null,
         "2025-05-01 00:00:00",
         "NOEXC",
         "2025-05-01 00:00:00",
         "0.0",
         "DER",
         "FX_BK",
         "-94126.0",
         null,
         null,
         null,
         "1.1394613",
         "1.1394613",
         "1.28599598",
         "0.0",
         "1.28599598",
         "1.128599962",
         null,
         "1.128599962",
         "0.0",
         "1022.33",
         "1022.33",
         null,
         null,
         null,
         null,
         "0.0",
         "0",
         "0.0",
         "0.0",
         "0.0",
         "0.0",
         "0.0",
         "0.0",
         null,
         "EUR",
         null,
         null,
         null,
         null,
         null,
         null,
         null,
         null,
         null,
         "Currency",
         "2025-04-30 00:00:00",
         null,
         null,
         null,
         null,
         null,
         null,
         null,
         null,
         null,
         null,
         "Anipro",
         null,
         null,
         null,
         "NO",
         "5141000077326",
         null,
         null,
         null,
         null,
         null,
         null,
         null,
         "0.0",
         "EUR",
         null,
         "Realised",
         null,
         null,
         null,
         "1.12859996",
         "1022.33",
         "OLAM GLOBAL AGRI",
         null,
         null,
         null,
         "0.0",
         null,
         "N",
         null,
         "5141000077326",
         null,
         null,
         null,
         null,
         null,
         null,
         null,
         null,
         null,
         null,
         null,
         "2025-05-30 00:00:00",
         null,
         "0",
         null,
         null,
         null,
         null
        ],
        [
         "1",
         "ANIPRO",
         "000 - UnLinked",
         "CFM",
         "CFM",
         "CFM",
         "2025-04-30 00:00:00",
         "5141000011833",
         null,
         null,
         null,
         "2025-05-01 00:00:00",
         "NOEXC",
         "2025-05-01 00:00:00",
         "0.0",
         "DER",
         "FX_BK",
         "-63750.0",
         null,
         null,
         null,
         "1.1394613",
         "1.1394613",
         "1.285996023",
         "0.0",
         "1.285996023",
         "1.1286",
         null,
         "1.1286",
         "0.0",
         "692.41",
         "692.41",
         null,
         null,
         null,
         null,
         "0.0",
         "0",
         "0.0",
         "0.0",
         "0.0",
         "0.0",
         "0.0",
         "0.0",
         null,
         "EUR",
         null,
         null,
         null,
         null,
         null,
         null,
         null,
         null,
         null,
         "Currency",
         "2025-04-30 00:00:00",
         null,
         null,
         null,
         null,
         null,
         null,
         null,
         null,
         null,
         null,
         "Anipro",
         null,
         null,
         null,
         "NO",
         "5141000077435",
         null,
         null,
         null,
         null,
         null,
         null,
         null,
         "0.0",
         "EUR",
         null,
         "Realised",
         null,
         null,
         null,
         "1.1286",
         "692.41",
         "OLAM GLOBAL AGRI",
         null,
         null,
         null,
         "0.0",
         null,
         "N",
         null,
         "5141000077435",
         null,
         null,
         null,
         null,
         null,
         null,
         null,
         null,
         null,
         null,
         null,
         "2025-05-30 00:00:00",
         null,
         "0",
         null,
         null,
         null,
         null
        ],
        [
         "2",
         "ANIPRO",
         "000 - UnLinked",
         "CFM",
         "CFM",
         "CFM",
         "2025-04-30 00:00:00",
         "5141000011936",
         null,
         null,
         null,
         "2025-05-01 00:00:00",
         "NOEXC",
         "2025-05-01 00:00:00",
         "0.0",
         "DER",
         "FX_BK",
         "-129041.28",
         null,
         null,
         null,
         "1.1394613",
         "1.1394613",
         "1.285996036",
         "0.0",
         "1.285996036",
         "1.128600011",
         null,
         "1.128600011",
         "0.0",
         "1401.56",
         "1401.56",
         null,
         null,
         null,
         null,
         "0.0",
         "0",
         "0.0",
         "0.0",
         "0.0",
         "0.0",
         "0.0",
         "0.0",
         null,
         "EUR",
         null,
         null,
         null,
         null,
         null,
         null,
         null,
         null,
         null,
         "Currency",
         "2025-04-30 00:00:00",
         null,
         null,
         null,
         null,
         null,
         null,
         null,
         null,
         null,
         null,
         "Anipro",
         null,
         null,
         null,
         "NO",
         "5141000076742",
         null,
         null,
         null,
         null,
         null,
         null,
         null,
         "0.0",
         "EUR",
         null,
         "Realised",
         null,
         null,
         null,
         "1.12860001",
         "1401.56",
         "OLAM GLOBAL AGRI",
         null,
         null,
         null,
         "0.0",
         null,
         "N",
         null,
         "5141000076742",
         null,
         null,
         null,
         null,
         null,
         null,
         null,
         null,
         null,
         null,
         null,
         "2025-05-30 00:00:00",
         null,
         "0",
         null,
         null,
         null,
         null
        ],
        [
         "3",
         "ANIPRO",
         "000 - UnLinked",
         "CFM",
         "CFM",
         "CFM",
         "2025-04-30 00:00:00",
         "5141000011963",
         null,
         null,
         null,
         "2025-05-01 00:00:00",
         "NOEXC",
         "2025-05-01 00:00:00",
         "0.0",
         "DER",
         "FX_BK",
         "-159130.0",
         null,
         null,
         null,
         "1.1394613",
         "1.1394613",
         "1.285996038",
         "0.0",
         "1.285996038",
         "1.128600013",
         null,
         "1.128600013",
         "0.0",
         "1728.36",
         "1728.36",
         null,
         null,
         null,
         null,
         "0.0",
         "0",
         "0.0",
         "0.0",
         "0.0",
         "0.0",
         "0.0",
         "0.0",
         null,
         "EUR",
         null,
         null,
         null,
         null,
         null,
         null,
         null,
         null,
         null,
         "Currency",
         "2025-04-30 00:00:00",
         null,
         null,
         null,
         null,
         null,
         null,
         null,
         null,
         null,
         null,
         "Anipro",
         null,
         null,
         null,
         "NO",
         "5141000076969",
         null,
         null,
         null,
         null,
         null,
         null,
         null,
         "0.0",
         "EUR",
         null,
         "Realised",
         null,
         null,
         null,
         "1.12860001",
         "1728.36",
         "OLAM GLOBAL AGRI",
         null,
         null,
         null,
         "0.0",
         null,
         "N",
         null,
         "5141000076969",
         null,
         null,
         null,
         null,
         null,
         null,
         null,
         null,
         null,
         null,
         null,
         "2025-05-30 00:00:00",
         null,
         "0",
         null,
         null,
         null,
         null
        ],
        [
         "4",
         "ANIPRO",
         "000 - UnLinked",
         "CFM",
         "CFM",
         "CFM",
         "2025-04-30 00:00:00",
         "5141000012128",
         null,
         null,
         null,
         "2025-05-01 00:00:00",
         "NOEXC",
         "2025-05-01 00:00:00",
         "0.0",
         "DER",
         "FX_BK",
         "-337916.0",
         null,
         null,
         null,
         "1.1394613",
         "1.1394613",
         "1.285996031",
         "0.0",
         "1.285996031",
         "1.128600007",
         null,
         "1.128600007",
         "0.0",
         "3670.21",
         "3670.21",
         null,
         null,
         null,
         null,
         "0.0",
         "0",
         "0.0",
         "0.0",
         "0.0",
         "0.0",
         "0.0",
         "0.0",
         null,
         "EUR",
         null,
         null,
         null,
         null,
         null,
         null,
         null,
         null,
         null,
         "Currency",
         "2025-04-30 00:00:00",
         null,
         null,
         null,
         null,
         null,
         null,
         null,
         null,
         null,
         null,
         "Anipro",
         null,
         null,
         null,
         "NO",
         "5141000076002",
         null,
         null,
         null,
         null,
         null,
         null,
         null,
         "0.0",
         "EUR",
         null,
         "Realised",
         null,
         null,
         null,
         "1.12860001",
         "3670.21",
         "OLAM GLOBAL AGRI",
         null,
         null,
         null,
         "0.0",
         null,
         "N",
         null,
         "5141000076002",
         null,
         null,
         null,
         null,
         null,
         null,
         null,
         null,
         null,
         null,
         null,
         "2025-05-30 00:00:00",
         null,
         "0",
         null,
         null,
         null,
         null
        ]
       ],
       "shape": {
        "columns": 115,
        "rows": 5
       }
      },
      "text/html": [
       "<div>\n",
       "<style scoped>\n",
       "    .dataframe tbody tr th:only-of-type {\n",
       "        vertical-align: middle;\n",
       "    }\n",
       "\n",
       "    .dataframe tbody tr th {\n",
       "        vertical-align: top;\n",
       "    }\n",
       "\n",
       "    .dataframe thead th {\n",
       "        text-align: right;\n",
       "    }\n",
       "</style>\n",
       "<table border=\"1\" class=\"dataframe\">\n",
       "  <thead>\n",
       "    <tr style=\"text-align: right;\">\n",
       "      <th></th>\n",
       "      <th>Product</th>\n",
       "      <th>Vessel__Strategy</th>\n",
       "      <th>Unit</th>\n",
       "      <th>OPS Unit</th>\n",
       "      <th>ORSUnit</th>\n",
       "      <th>Date</th>\n",
       "      <th>Trade/OPS Ref</th>\n",
       "      <th>Party</th>\n",
       "      <th>Party Ref</th>\n",
       "      <th>Grade</th>\n",
       "      <th>...</th>\n",
       "      <th>Broker</th>\n",
       "      <th>Broker Reference</th>\n",
       "      <th>Party Code</th>\n",
       "      <th>Fixing Date</th>\n",
       "      <th>Grade Optionality</th>\n",
       "      <th>Design</th>\n",
       "      <th>Provisional Price</th>\n",
       "      <th>BL Date</th>\n",
       "      <th>BL Quantity</th>\n",
       "      <th>Outport</th>\n",
       "    </tr>\n",
       "  </thead>\n",
       "  <tbody>\n",
       "    <tr>\n",
       "      <th>0</th>\n",
       "      <td>ANIPRO</td>\n",
       "      <td>000 - UnLinked</td>\n",
       "      <td>CFM</td>\n",
       "      <td>CFM</td>\n",
       "      <td>CFM</td>\n",
       "      <td>2025-04-30 00:00:00</td>\n",
       "      <td>5141000011693</td>\n",
       "      <td>NaN</td>\n",
       "      <td>NaN</td>\n",
       "      <td>NaN</td>\n",
       "      <td>...</td>\n",
       "      <td>NaN</td>\n",
       "      <td>NaN</td>\n",
       "      <td>NaN</td>\n",
       "      <td>2025-05-30 00:00:00</td>\n",
       "      <td>NaN</td>\n",
       "      <td>0</td>\n",
       "      <td>NaN</td>\n",
       "      <td>NaN</td>\n",
       "      <td>NaN</td>\n",
       "      <td>NaN</td>\n",
       "    </tr>\n",
       "    <tr>\n",
       "      <th>1</th>\n",
       "      <td>ANIPRO</td>\n",
       "      <td>000 - UnLinked</td>\n",
       "      <td>CFM</td>\n",
       "      <td>CFM</td>\n",
       "      <td>CFM</td>\n",
       "      <td>2025-04-30 00:00:00</td>\n",
       "      <td>5141000011833</td>\n",
       "      <td>NaN</td>\n",
       "      <td>NaN</td>\n",
       "      <td>NaN</td>\n",
       "      <td>...</td>\n",
       "      <td>NaN</td>\n",
       "      <td>NaN</td>\n",
       "      <td>NaN</td>\n",
       "      <td>2025-05-30 00:00:00</td>\n",
       "      <td>NaN</td>\n",
       "      <td>0</td>\n",
       "      <td>NaN</td>\n",
       "      <td>NaN</td>\n",
       "      <td>NaN</td>\n",
       "      <td>NaN</td>\n",
       "    </tr>\n",
       "    <tr>\n",
       "      <th>2</th>\n",
       "      <td>ANIPRO</td>\n",
       "      <td>000 - UnLinked</td>\n",
       "      <td>CFM</td>\n",
       "      <td>CFM</td>\n",
       "      <td>CFM</td>\n",
       "      <td>2025-04-30 00:00:00</td>\n",
       "      <td>5141000011936</td>\n",
       "      <td>NaN</td>\n",
       "      <td>NaN</td>\n",
       "      <td>NaN</td>\n",
       "      <td>...</td>\n",
       "      <td>NaN</td>\n",
       "      <td>NaN</td>\n",
       "      <td>NaN</td>\n",
       "      <td>2025-05-30 00:00:00</td>\n",
       "      <td>NaN</td>\n",
       "      <td>0</td>\n",
       "      <td>NaN</td>\n",
       "      <td>NaN</td>\n",
       "      <td>NaN</td>\n",
       "      <td>NaN</td>\n",
       "    </tr>\n",
       "    <tr>\n",
       "      <th>3</th>\n",
       "      <td>ANIPRO</td>\n",
       "      <td>000 - UnLinked</td>\n",
       "      <td>CFM</td>\n",
       "      <td>CFM</td>\n",
       "      <td>CFM</td>\n",
       "      <td>2025-04-30 00:00:00</td>\n",
       "      <td>5141000011963</td>\n",
       "      <td>NaN</td>\n",
       "      <td>NaN</td>\n",
       "      <td>NaN</td>\n",
       "      <td>...</td>\n",
       "      <td>NaN</td>\n",
       "      <td>NaN</td>\n",
       "      <td>NaN</td>\n",
       "      <td>2025-05-30 00:00:00</td>\n",
       "      <td>NaN</td>\n",
       "      <td>0</td>\n",
       "      <td>NaN</td>\n",
       "      <td>NaN</td>\n",
       "      <td>NaN</td>\n",
       "      <td>NaN</td>\n",
       "    </tr>\n",
       "    <tr>\n",
       "      <th>4</th>\n",
       "      <td>ANIPRO</td>\n",
       "      <td>000 - UnLinked</td>\n",
       "      <td>CFM</td>\n",
       "      <td>CFM</td>\n",
       "      <td>CFM</td>\n",
       "      <td>2025-04-30 00:00:00</td>\n",
       "      <td>5141000012128</td>\n",
       "      <td>NaN</td>\n",
       "      <td>NaN</td>\n",
       "      <td>NaN</td>\n",
       "      <td>...</td>\n",
       "      <td>NaN</td>\n",
       "      <td>NaN</td>\n",
       "      <td>NaN</td>\n",
       "      <td>2025-05-30 00:00:00</td>\n",
       "      <td>NaN</td>\n",
       "      <td>0</td>\n",
       "      <td>NaN</td>\n",
       "      <td>NaN</td>\n",
       "      <td>NaN</td>\n",
       "      <td>NaN</td>\n",
       "    </tr>\n",
       "  </tbody>\n",
       "</table>\n",
       "<p>5 rows × 115 columns</p>\n",
       "</div>"
      ],
      "text/plain": [
       "  Product Vessel__Strategy Unit OPS Unit ORSUnit                 Date  \\\n",
       "0  ANIPRO   000 - UnLinked  CFM      CFM     CFM  2025-04-30 00:00:00   \n",
       "1  ANIPRO   000 - UnLinked  CFM      CFM     CFM  2025-04-30 00:00:00   \n",
       "2  ANIPRO   000 - UnLinked  CFM      CFM     CFM  2025-04-30 00:00:00   \n",
       "3  ANIPRO   000 - UnLinked  CFM      CFM     CFM  2025-04-30 00:00:00   \n",
       "4  ANIPRO   000 - UnLinked  CFM      CFM     CFM  2025-04-30 00:00:00   \n",
       "\n",
       "   Trade/OPS Ref Party Party Ref Grade  ... Broker Broker Reference  \\\n",
       "0  5141000011693   NaN       NaN   NaN  ...    NaN              NaN   \n",
       "1  5141000011833   NaN       NaN   NaN  ...    NaN              NaN   \n",
       "2  5141000011936   NaN       NaN   NaN  ...    NaN              NaN   \n",
       "3  5141000011963   NaN       NaN   NaN  ...    NaN              NaN   \n",
       "4  5141000012128   NaN       NaN   NaN  ...    NaN              NaN   \n",
       "\n",
       "  Party Code          Fixing Date Grade Optionality Design  Provisional Price  \\\n",
       "0        NaN  2025-05-30 00:00:00               NaN      0                NaN   \n",
       "1        NaN  2025-05-30 00:00:00               NaN      0                NaN   \n",
       "2        NaN  2025-05-30 00:00:00               NaN      0                NaN   \n",
       "3        NaN  2025-05-30 00:00:00               NaN      0                NaN   \n",
       "4        NaN  2025-05-30 00:00:00               NaN      0                NaN   \n",
       "\n",
       "   BL Date  BL Quantity  Outport  \n",
       "0      NaN          NaN      NaN  \n",
       "1      NaN          NaN      NaN  \n",
       "2      NaN          NaN      NaN  \n",
       "3      NaN          NaN      NaN  \n",
       "4      NaN          NaN      NaN  \n",
       "\n",
       "[5 rows x 115 columns]"
      ]
     },
     "execution_count": 3,
     "metadata": {},
     "output_type": "execute_result"
    }
   ],
   "source": [
    "data = pd.read_csv('today.csv')"
   ]
  },
  {
   "cell_type": "markdown",
   "id": "50ac909c",
   "metadata": {},
   "source": [
    "## Cleaning the File"
   ]
  },
  {
   "cell_type": "markdown",
   "id": "86e98ec7",
   "metadata": {},
   "source": [
    "### Date Formatting"
   ]
  },
  {
   "cell_type": "code",
   "execution_count": null,
   "id": "7d616803",
   "metadata": {},
   "outputs": [
    {
     "data": {
      "application/vnd.microsoft.datawrangler.viewer.v0+json": {
       "columns": [
        {
         "name": "index",
         "rawType": "int64",
         "type": "integer"
        },
        {
         "name": "Product",
         "rawType": "object",
         "type": "string"
        },
        {
         "name": "Vessel__Strategy",
         "rawType": "object",
         "type": "string"
        },
        {
         "name": "Unit",
         "rawType": "object",
         "type": "string"
        },
        {
         "name": "OPS Unit",
         "rawType": "object",
         "type": "string"
        },
        {
         "name": "ORSUnit",
         "rawType": "object",
         "type": "string"
        },
        {
         "name": "Date",
         "rawType": "datetime64[ns]",
         "type": "datetime"
        },
        {
         "name": "Trade/OPS Ref",
         "rawType": "object",
         "type": "string"
        },
        {
         "name": "Party",
         "rawType": "object",
         "type": "unknown"
        },
        {
         "name": "Party Ref",
         "rawType": "object",
         "type": "unknown"
        },
        {
         "name": "Grade",
         "rawType": "object",
         "type": "unknown"
        },
        {
         "name": "Shipment Month",
         "rawType": "datetime64[ns]",
         "type": "datetime"
        },
        {
         "name": "Exch",
         "rawType": "object",
         "type": "string"
        },
        {
         "name": "Terminal Month",
         "rawType": "datetime64[ns]",
         "type": "datetime"
        },
        {
         "name": "Strike",
         "rawType": "float64",
         "type": "float"
        },
        {
         "name": "Transaction Type",
         "rawType": "object",
         "type": "string"
        },
        {
         "name": "Trade Type",
         "rawType": "object",
         "type": "string"
        },
        {
         "name": "Quantity",
         "rawType": "float64",
         "type": "float"
        },
        {
         "name": "Deltamid",
         "rawType": "float64",
         "type": "float"
        },
        {
         "name": "Delta Quantity",
         "rawType": "float64",
         "type": "float"
        },
        {
         "name": "Diff",
         "rawType": "float64",
         "type": "float"
        },
        {
         "name": "Futures Rate",
         "rawType": "float64",
         "type": "float"
        },
        {
         "name": "Price",
         "rawType": "float64",
         "type": "float"
        },
        {
         "name": "US$/Ton",
         "rawType": "float64",
         "type": "float"
        },
        {
         "name": "Cost",
         "rawType": "float64",
         "type": "float"
        },
        {
         "name": "FOB Price",
         "rawType": "float64",
         "type": "float"
        },
        {
         "name": "Market Rate",
         "rawType": "float64",
         "type": "float"
        },
        {
         "name": "Market Diff",
         "rawType": "float64",
         "type": "float"
        },
        {
         "name": "US$ Market Price",
         "rawType": "float64",
         "type": "float"
        },
        {
         "name": "Total FOB Cost",
         "rawType": "float64",
         "type": "float"
        },
        {
         "name": "Market Value",
         "rawType": "float64",
         "type": "float"
        },
        {
         "name": "m2m",
         "rawType": "float64",
         "type": "float"
        },
        {
         "name": "Net Physical",
         "rawType": "float64",
         "type": "float"
        },
        {
         "name": "Net Differential",
         "rawType": "float64",
         "type": "float"
        },
        {
         "name": "Net Fixed",
         "rawType": "float64",
         "type": "float"
        },
        {
         "name": "Net Derivatives",
         "rawType": "float64",
         "type": "float"
        },
        {
         "name": "Outright Price",
         "rawType": "float64",
         "type": "float"
        },
        {
         "name": "Basis",
         "rawType": "int64",
         "type": "integer"
        },
        {
         "name": "Insurance",
         "rawType": "float64",
         "type": "float"
        },
        {
         "name": "Freight",
         "rawType": "float64",
         "type": "float"
        },
        {
         "name": "C___F Exp",
         "rawType": "float64",
         "type": "float"
        },
        {
         "name": "Wt Loss",
         "rawType": "float64",
         "type": "float"
        },
        {
         "name": "Addl Int",
         "rawType": "float64",
         "type": "float"
        },
        {
         "name": "Commission",
         "rawType": "float64",
         "type": "float"
        },
        {
         "name": "Contract Terms",
         "rawType": "object",
         "type": "unknown"
        },
        {
         "name": "Contract Currency",
         "rawType": "object",
         "type": "string"
        },
        {
         "name": "pos",
         "rawType": "object",
         "type": "unknown"
        },
        {
         "name": "pod",
         "rawType": "object",
         "type": "unknown"
        },
        {
         "name": "POD Country",
         "rawType": "object",
         "type": "unknown"
        },
        {
         "name": "SPeriod",
         "rawType": "object",
         "type": "unknown"
        },
        {
         "name": "Group Party",
         "rawType": "object",
         "type": "unknown"
        },
        {
         "name": "Risk Avl",
         "rawType": "object",
         "type": "unknown"
        },
        {
         "name": "Washout Date",
         "rawType": "object",
         "type": "unknown"
        },
        {
         "name": "Risk Report Qty",
         "rawType": "float64",
         "type": "float"
        },
        {
         "name": "Invoiced Qty",
         "rawType": "float64",
         "type": "float"
        },
        {
         "name": "Purchases Type",
         "rawType": "object",
         "type": "string"
        },
        {
         "name": "Entry Date",
         "rawType": "object",
         "type": "string"
        },
        {
         "name": "Ship From Date",
         "rawType": "object",
         "type": "unknown"
        },
        {
         "name": "Ship To Date",
         "rawType": "object",
         "type": "unknown"
        },
        {
         "name": "M2M Terminal Month",
         "rawType": "datetime64[ns]",
         "type": "datetime"
        },
        {
         "name": "Grade Type",
         "rawType": "object",
         "type": "unknown"
        },
        {
         "name": "Market Zone",
         "rawType": "object",
         "type": "unknown"
        },
        {
         "name": "Strategy Unit",
         "rawType": "object",
         "type": "unknown"
        },
        {
         "name": "Strategy Trader",
         "rawType": "object",
         "type": "unknown"
        },
        {
         "name": "Strategy Type",
         "rawType": "object",
         "type": "unknown"
        },
        {
         "name": "Vessel Name",
         "rawType": "object",
         "type": "unknown"
        },
        {
         "name": "Final Freight",
         "rawType": "float64",
         "type": "float"
        },
        {
         "name": "OPS Product",
         "rawType": "object",
         "type": "string"
        },
        {
         "name": "Exposure Currency",
         "rawType": "object",
         "type": "unknown"
        },
        {
         "name": "Grade Origin",
         "rawType": "object",
         "type": "unknown"
        },
        {
         "name": "Trader",
         "rawType": "object",
         "type": "unknown"
        },
        {
         "name": "Freight Exp",
         "rawType": "object",
         "type": "string"
        },
        {
         "name": "Phy Reference",
         "rawType": "object",
         "type": "string"
        },
        {
         "name": "Link Status",
         "rawType": "object",
         "type": "unknown"
        },
        {
         "name": "Act Terminal Month",
         "rawType": "object",
         "type": "unknown"
        },
        {
         "name": "Act Shipment Month",
         "rawType": "object",
         "type": "unknown"
        },
        {
         "name": "Linked Purchases Trade",
         "rawType": "object",
         "type": "unknown"
        },
        {
         "name": "Val Sale Trade",
         "rawType": "object",
         "type": "unknown"
        },
        {
         "name": "Linked Sale Trade",
         "rawType": "object",
         "type": "unknown"
        },
        {
         "name": "Linked Quantity",
         "rawType": "float64",
         "type": "float"
        },
        {
         "name": "M2M Currency Risk",
         "rawType": "float64",
         "type": "float"
        },
        {
         "name": "Exp Cur",
         "rawType": "object",
         "type": "string"
        },
        {
         "name": "Tolerance",
         "rawType": "float64",
         "type": "float"
        },
        {
         "name": "Remarks",
         "rawType": "object",
         "type": "string"
        },
        {
         "name": "Valuation Basis",
         "rawType": "object",
         "type": "unknown"
        },
        {
         "name": "Actual POS",
         "rawType": "object",
         "type": "unknown"
        },
        {
         "name": "Strategy Product",
         "rawType": "object",
         "type": "unknown"
        },
        {
         "name": "New Fx Rate",
         "rawType": "float64",
         "type": "float"
        },
        {
         "name": "fv",
         "rawType": "float64",
         "type": "float"
        },
        {
         "name": "Entity",
         "rawType": "object",
         "type": "string"
        },
        {
         "name": "Del Month",
         "rawType": "object",
         "type": "unknown"
        },
        {
         "name": "Parent Strategy",
         "rawType": "object",
         "type": "unknown"
        },
        {
         "name": "Forward Rate",
         "rawType": "float64",
         "type": "float"
        },
        {
         "name": "Forward M2M",
         "rawType": "float64",
         "type": "float"
        },
        {
         "name": "Posting Status",
         "rawType": "object",
         "type": "unknown"
        },
        {
         "name": "Paper Trade",
         "rawType": "object",
         "type": "string"
        },
        {
         "name": "Paper Trade Type",
         "rawType": "object",
         "type": "unknown"
        },
        {
         "name": "Linked Cover no",
         "rawType": "object",
         "type": "string"
        },
        {
         "name": "Payment Term",
         "rawType": "object",
         "type": "unknown"
        },
        {
         "name": "Party Country",
         "rawType": "object",
         "type": "unknown"
        },
        {
         "name": "Grade Exchange",
         "rawType": "object",
         "type": "unknown"
        },
        {
         "name": "Grade Today Rate",
         "rawType": "float64",
         "type": "float"
        },
        {
         "name": "Grade Yesterday Rate",
         "rawType": "float64",
         "type": "float"
        },
        {
         "name": "DoD M2M",
         "rawType": "float64",
         "type": "float"
        },
        {
         "name": "Qty Exposure",
         "rawType": "float64",
         "type": "float"
        },
        {
         "name": "Budget Ref no",
         "rawType": "object",
         "type": "unknown"
        },
        {
         "name": "Broker",
         "rawType": "object",
         "type": "unknown"
        },
        {
         "name": "Broker Reference",
         "rawType": "object",
         "type": "unknown"
        },
        {
         "name": "Party Code",
         "rawType": "object",
         "type": "unknown"
        },
        {
         "name": "Fixing Date",
         "rawType": "object",
         "type": "string"
        },
        {
         "name": "Grade Optionality",
         "rawType": "object",
         "type": "unknown"
        },
        {
         "name": "Design",
         "rawType": "int64",
         "type": "integer"
        },
        {
         "name": "Provisional Price",
         "rawType": "float64",
         "type": "float"
        },
        {
         "name": "BL Date",
         "rawType": "object",
         "type": "unknown"
        },
        {
         "name": "BL Quantity",
         "rawType": "float64",
         "type": "float"
        },
        {
         "name": "Outport",
         "rawType": "object",
         "type": "unknown"
        }
       ],
       "ref": "2565aeb4-8568-4999-96ef-04dddbfd48ed",
       "rows": [
        [
         "0",
         "ANIPRO",
         "000 - UnLinked",
         "CFM",
         "CFM",
         "CFM",
         "2025-04-30 00:00:00",
         "5141000011693",
         null,
         null,
         null,
         "2025-05-01 00:00:00",
         "NOEXC",
         "2025-05-01 00:00:00",
         "0.0",
         "DER",
         "FX_BK",
         "-94126.0",
         null,
         null,
         null,
         "1.1394613",
         "1.1394613",
         "1.28599598",
         "0.0",
         "1.28599598",
         "1.128599962",
         null,
         "1.128599962",
         "0.0",
         "1022.33",
         "1022.33",
         null,
         null,
         null,
         null,
         "0.0",
         "0",
         "0.0",
         "0.0",
         "0.0",
         "0.0",
         "0.0",
         "0.0",
         null,
         "EUR",
         null,
         null,
         null,
         null,
         null,
         null,
         null,
         null,
         null,
         "Currency",
         "2025-04-30 00:00:00",
         null,
         null,
         null,
         null,
         null,
         null,
         null,
         null,
         null,
         null,
         "Anipro",
         null,
         null,
         null,
         "NO",
         "5141000077326",
         null,
         null,
         null,
         null,
         null,
         null,
         null,
         "0.0",
         "EUR",
         null,
         "Realised",
         null,
         null,
         null,
         "1.12859996",
         "1022.33",
         "OLAM GLOBAL AGRI",
         null,
         null,
         null,
         "0.0",
         null,
         "N",
         null,
         "5141000077326",
         null,
         null,
         null,
         null,
         null,
         null,
         null,
         null,
         null,
         null,
         null,
         "2025-05-30 00:00:00",
         null,
         "0",
         null,
         null,
         null,
         null
        ],
        [
         "1",
         "ANIPRO",
         "000 - UnLinked",
         "CFM",
         "CFM",
         "CFM",
         "2025-04-30 00:00:00",
         "5141000011833",
         null,
         null,
         null,
         "2025-05-01 00:00:00",
         "NOEXC",
         "2025-05-01 00:00:00",
         "0.0",
         "DER",
         "FX_BK",
         "-63750.0",
         null,
         null,
         null,
         "1.1394613",
         "1.1394613",
         "1.285996023",
         "0.0",
         "1.285996023",
         "1.1286",
         null,
         "1.1286",
         "0.0",
         "692.41",
         "692.41",
         null,
         null,
         null,
         null,
         "0.0",
         "0",
         "0.0",
         "0.0",
         "0.0",
         "0.0",
         "0.0",
         "0.0",
         null,
         "EUR",
         null,
         null,
         null,
         null,
         null,
         null,
         null,
         null,
         null,
         "Currency",
         "2025-04-30 00:00:00",
         null,
         null,
         null,
         null,
         null,
         null,
         null,
         null,
         null,
         null,
         "Anipro",
         null,
         null,
         null,
         "NO",
         "5141000077435",
         null,
         null,
         null,
         null,
         null,
         null,
         null,
         "0.0",
         "EUR",
         null,
         "Realised",
         null,
         null,
         null,
         "1.1286",
         "692.41",
         "OLAM GLOBAL AGRI",
         null,
         null,
         null,
         "0.0",
         null,
         "N",
         null,
         "5141000077435",
         null,
         null,
         null,
         null,
         null,
         null,
         null,
         null,
         null,
         null,
         null,
         "2025-05-30 00:00:00",
         null,
         "0",
         null,
         null,
         null,
         null
        ],
        [
         "2",
         "ANIPRO",
         "000 - UnLinked",
         "CFM",
         "CFM",
         "CFM",
         "2025-04-30 00:00:00",
         "5141000011936",
         null,
         null,
         null,
         "2025-05-01 00:00:00",
         "NOEXC",
         "2025-05-01 00:00:00",
         "0.0",
         "DER",
         "FX_BK",
         "-129041.28",
         null,
         null,
         null,
         "1.1394613",
         "1.1394613",
         "1.285996036",
         "0.0",
         "1.285996036",
         "1.128600011",
         null,
         "1.128600011",
         "0.0",
         "1401.56",
         "1401.56",
         null,
         null,
         null,
         null,
         "0.0",
         "0",
         "0.0",
         "0.0",
         "0.0",
         "0.0",
         "0.0",
         "0.0",
         null,
         "EUR",
         null,
         null,
         null,
         null,
         null,
         null,
         null,
         null,
         null,
         "Currency",
         "2025-04-30 00:00:00",
         null,
         null,
         null,
         null,
         null,
         null,
         null,
         null,
         null,
         null,
         "Anipro",
         null,
         null,
         null,
         "NO",
         "5141000076742",
         null,
         null,
         null,
         null,
         null,
         null,
         null,
         "0.0",
         "EUR",
         null,
         "Realised",
         null,
         null,
         null,
         "1.12860001",
         "1401.56",
         "OLAM GLOBAL AGRI",
         null,
         null,
         null,
         "0.0",
         null,
         "N",
         null,
         "5141000076742",
         null,
         null,
         null,
         null,
         null,
         null,
         null,
         null,
         null,
         null,
         null,
         "2025-05-30 00:00:00",
         null,
         "0",
         null,
         null,
         null,
         null
        ],
        [
         "3",
         "ANIPRO",
         "000 - UnLinked",
         "CFM",
         "CFM",
         "CFM",
         "2025-04-30 00:00:00",
         "5141000011963",
         null,
         null,
         null,
         "2025-05-01 00:00:00",
         "NOEXC",
         "2025-05-01 00:00:00",
         "0.0",
         "DER",
         "FX_BK",
         "-159130.0",
         null,
         null,
         null,
         "1.1394613",
         "1.1394613",
         "1.285996038",
         "0.0",
         "1.285996038",
         "1.128600013",
         null,
         "1.128600013",
         "0.0",
         "1728.36",
         "1728.36",
         null,
         null,
         null,
         null,
         "0.0",
         "0",
         "0.0",
         "0.0",
         "0.0",
         "0.0",
         "0.0",
         "0.0",
         null,
         "EUR",
         null,
         null,
         null,
         null,
         null,
         null,
         null,
         null,
         null,
         "Currency",
         "2025-04-30 00:00:00",
         null,
         null,
         null,
         null,
         null,
         null,
         null,
         null,
         null,
         null,
         "Anipro",
         null,
         null,
         null,
         "NO",
         "5141000076969",
         null,
         null,
         null,
         null,
         null,
         null,
         null,
         "0.0",
         "EUR",
         null,
         "Realised",
         null,
         null,
         null,
         "1.12860001",
         "1728.36",
         "OLAM GLOBAL AGRI",
         null,
         null,
         null,
         "0.0",
         null,
         "N",
         null,
         "5141000076969",
         null,
         null,
         null,
         null,
         null,
         null,
         null,
         null,
         null,
         null,
         null,
         "2025-05-30 00:00:00",
         null,
         "0",
         null,
         null,
         null,
         null
        ],
        [
         "4",
         "ANIPRO",
         "000 - UnLinked",
         "CFM",
         "CFM",
         "CFM",
         "2025-04-30 00:00:00",
         "5141000012128",
         null,
         null,
         null,
         "2025-05-01 00:00:00",
         "NOEXC",
         "2025-05-01 00:00:00",
         "0.0",
         "DER",
         "FX_BK",
         "-337916.0",
         null,
         null,
         null,
         "1.1394613",
         "1.1394613",
         "1.285996031",
         "0.0",
         "1.285996031",
         "1.128600007",
         null,
         "1.128600007",
         "0.0",
         "3670.21",
         "3670.21",
         null,
         null,
         null,
         null,
         "0.0",
         "0",
         "0.0",
         "0.0",
         "0.0",
         "0.0",
         "0.0",
         "0.0",
         null,
         "EUR",
         null,
         null,
         null,
         null,
         null,
         null,
         null,
         null,
         null,
         "Currency",
         "2025-04-30 00:00:00",
         null,
         null,
         null,
         null,
         null,
         null,
         null,
         null,
         null,
         null,
         "Anipro",
         null,
         null,
         null,
         "NO",
         "5141000076002",
         null,
         null,
         null,
         null,
         null,
         null,
         null,
         "0.0",
         "EUR",
         null,
         "Realised",
         null,
         null,
         null,
         "1.12860001",
         "3670.21",
         "OLAM GLOBAL AGRI",
         null,
         null,
         null,
         "0.0",
         null,
         "N",
         null,
         "5141000076002",
         null,
         null,
         null,
         null,
         null,
         null,
         null,
         null,
         null,
         null,
         null,
         "2025-05-30 00:00:00",
         null,
         "0",
         null,
         null,
         null,
         null
        ]
       ],
       "shape": {
        "columns": 115,
        "rows": 5
       }
      },
      "text/html": [
       "<div>\n",
       "<style scoped>\n",
       "    .dataframe tbody tr th:only-of-type {\n",
       "        vertical-align: middle;\n",
       "    }\n",
       "\n",
       "    .dataframe tbody tr th {\n",
       "        vertical-align: top;\n",
       "    }\n",
       "\n",
       "    .dataframe thead th {\n",
       "        text-align: right;\n",
       "    }\n",
       "</style>\n",
       "<table border=\"1\" class=\"dataframe\">\n",
       "  <thead>\n",
       "    <tr style=\"text-align: right;\">\n",
       "      <th></th>\n",
       "      <th>Product</th>\n",
       "      <th>Vessel__Strategy</th>\n",
       "      <th>Unit</th>\n",
       "      <th>OPS Unit</th>\n",
       "      <th>ORSUnit</th>\n",
       "      <th>Date</th>\n",
       "      <th>Trade/OPS Ref</th>\n",
       "      <th>Party</th>\n",
       "      <th>Party Ref</th>\n",
       "      <th>Grade</th>\n",
       "      <th>...</th>\n",
       "      <th>Broker</th>\n",
       "      <th>Broker Reference</th>\n",
       "      <th>Party Code</th>\n",
       "      <th>Fixing Date</th>\n",
       "      <th>Grade Optionality</th>\n",
       "      <th>Design</th>\n",
       "      <th>Provisional Price</th>\n",
       "      <th>BL Date</th>\n",
       "      <th>BL Quantity</th>\n",
       "      <th>Outport</th>\n",
       "    </tr>\n",
       "  </thead>\n",
       "  <tbody>\n",
       "    <tr>\n",
       "      <th>0</th>\n",
       "      <td>ANIPRO</td>\n",
       "      <td>000 - UnLinked</td>\n",
       "      <td>CFM</td>\n",
       "      <td>CFM</td>\n",
       "      <td>CFM</td>\n",
       "      <td>2025-04-30</td>\n",
       "      <td>5141000011693</td>\n",
       "      <td>NaN</td>\n",
       "      <td>NaN</td>\n",
       "      <td>NaN</td>\n",
       "      <td>...</td>\n",
       "      <td>NaN</td>\n",
       "      <td>NaN</td>\n",
       "      <td>NaN</td>\n",
       "      <td>2025-05-30 00:00:00</td>\n",
       "      <td>NaN</td>\n",
       "      <td>0</td>\n",
       "      <td>NaN</td>\n",
       "      <td>NaN</td>\n",
       "      <td>NaN</td>\n",
       "      <td>NaN</td>\n",
       "    </tr>\n",
       "    <tr>\n",
       "      <th>1</th>\n",
       "      <td>ANIPRO</td>\n",
       "      <td>000 - UnLinked</td>\n",
       "      <td>CFM</td>\n",
       "      <td>CFM</td>\n",
       "      <td>CFM</td>\n",
       "      <td>2025-04-30</td>\n",
       "      <td>5141000011833</td>\n",
       "      <td>NaN</td>\n",
       "      <td>NaN</td>\n",
       "      <td>NaN</td>\n",
       "      <td>...</td>\n",
       "      <td>NaN</td>\n",
       "      <td>NaN</td>\n",
       "      <td>NaN</td>\n",
       "      <td>2025-05-30 00:00:00</td>\n",
       "      <td>NaN</td>\n",
       "      <td>0</td>\n",
       "      <td>NaN</td>\n",
       "      <td>NaN</td>\n",
       "      <td>NaN</td>\n",
       "      <td>NaN</td>\n",
       "    </tr>\n",
       "    <tr>\n",
       "      <th>2</th>\n",
       "      <td>ANIPRO</td>\n",
       "      <td>000 - UnLinked</td>\n",
       "      <td>CFM</td>\n",
       "      <td>CFM</td>\n",
       "      <td>CFM</td>\n",
       "      <td>2025-04-30</td>\n",
       "      <td>5141000011936</td>\n",
       "      <td>NaN</td>\n",
       "      <td>NaN</td>\n",
       "      <td>NaN</td>\n",
       "      <td>...</td>\n",
       "      <td>NaN</td>\n",
       "      <td>NaN</td>\n",
       "      <td>NaN</td>\n",
       "      <td>2025-05-30 00:00:00</td>\n",
       "      <td>NaN</td>\n",
       "      <td>0</td>\n",
       "      <td>NaN</td>\n",
       "      <td>NaN</td>\n",
       "      <td>NaN</td>\n",
       "      <td>NaN</td>\n",
       "    </tr>\n",
       "    <tr>\n",
       "      <th>3</th>\n",
       "      <td>ANIPRO</td>\n",
       "      <td>000 - UnLinked</td>\n",
       "      <td>CFM</td>\n",
       "      <td>CFM</td>\n",
       "      <td>CFM</td>\n",
       "      <td>2025-04-30</td>\n",
       "      <td>5141000011963</td>\n",
       "      <td>NaN</td>\n",
       "      <td>NaN</td>\n",
       "      <td>NaN</td>\n",
       "      <td>...</td>\n",
       "      <td>NaN</td>\n",
       "      <td>NaN</td>\n",
       "      <td>NaN</td>\n",
       "      <td>2025-05-30 00:00:00</td>\n",
       "      <td>NaN</td>\n",
       "      <td>0</td>\n",
       "      <td>NaN</td>\n",
       "      <td>NaN</td>\n",
       "      <td>NaN</td>\n",
       "      <td>NaN</td>\n",
       "    </tr>\n",
       "    <tr>\n",
       "      <th>4</th>\n",
       "      <td>ANIPRO</td>\n",
       "      <td>000 - UnLinked</td>\n",
       "      <td>CFM</td>\n",
       "      <td>CFM</td>\n",
       "      <td>CFM</td>\n",
       "      <td>2025-04-30</td>\n",
       "      <td>5141000012128</td>\n",
       "      <td>NaN</td>\n",
       "      <td>NaN</td>\n",
       "      <td>NaN</td>\n",
       "      <td>...</td>\n",
       "      <td>NaN</td>\n",
       "      <td>NaN</td>\n",
       "      <td>NaN</td>\n",
       "      <td>2025-05-30 00:00:00</td>\n",
       "      <td>NaN</td>\n",
       "      <td>0</td>\n",
       "      <td>NaN</td>\n",
       "      <td>NaN</td>\n",
       "      <td>NaN</td>\n",
       "      <td>NaN</td>\n",
       "    </tr>\n",
       "  </tbody>\n",
       "</table>\n",
       "<p>5 rows × 115 columns</p>\n",
       "</div>"
      ],
      "text/plain": [
       "  Product Vessel__Strategy Unit OPS Unit ORSUnit       Date  Trade/OPS Ref  \\\n",
       "0  ANIPRO   000 - UnLinked  CFM      CFM     CFM 2025-04-30  5141000011693   \n",
       "1  ANIPRO   000 - UnLinked  CFM      CFM     CFM 2025-04-30  5141000011833   \n",
       "2  ANIPRO   000 - UnLinked  CFM      CFM     CFM 2025-04-30  5141000011936   \n",
       "3  ANIPRO   000 - UnLinked  CFM      CFM     CFM 2025-04-30  5141000011963   \n",
       "4  ANIPRO   000 - UnLinked  CFM      CFM     CFM 2025-04-30  5141000012128   \n",
       "\n",
       "  Party Party Ref Grade  ... Broker Broker Reference Party Code  \\\n",
       "0   NaN       NaN   NaN  ...    NaN              NaN        NaN   \n",
       "1   NaN       NaN   NaN  ...    NaN              NaN        NaN   \n",
       "2   NaN       NaN   NaN  ...    NaN              NaN        NaN   \n",
       "3   NaN       NaN   NaN  ...    NaN              NaN        NaN   \n",
       "4   NaN       NaN   NaN  ...    NaN              NaN        NaN   \n",
       "\n",
       "           Fixing Date Grade Optionality Design  Provisional Price  BL Date  \\\n",
       "0  2025-05-30 00:00:00               NaN      0                NaN      NaN   \n",
       "1  2025-05-30 00:00:00               NaN      0                NaN      NaN   \n",
       "2  2025-05-30 00:00:00               NaN      0                NaN      NaN   \n",
       "3  2025-05-30 00:00:00               NaN      0                NaN      NaN   \n",
       "4  2025-05-30 00:00:00               NaN      0                NaN      NaN   \n",
       "\n",
       "   BL Quantity  Outport  \n",
       "0          NaN      NaN  \n",
       "1          NaN      NaN  \n",
       "2          NaN      NaN  \n",
       "3          NaN      NaN  \n",
       "4          NaN      NaN  \n",
       "\n",
       "[5 rows x 115 columns]"
      ]
     },
     "execution_count": 4,
     "metadata": {},
     "output_type": "execute_result"
    }
   ],
   "source": [
    "cols = ['Date', 'Shipment Month', 'Terminal Month', 'M2M Terminal Month']\n",
    "for i in cols:\n",
    "    formatted_dates = pd.to_datetime(data[i], format='mixed', errors='coerce')\n",
    "    data[i] = formatted_dates"
   ]
  },
  {
   "cell_type": "markdown",
   "id": "b29107a8",
   "metadata": {},
   "source": [
    "# Making Pivot Tables"
   ]
  },
  {
   "cell_type": "markdown",
   "id": "da99f8d8",
   "metadata": {},
   "source": [
    "## Pivots for Groups Of Units"
   ]
  },
  {
   "cell_type": "code",
   "execution_count": 5,
   "id": "12ffc8b7",
   "metadata": {},
   "outputs": [
    {
     "name": "stdout",
     "output_type": "stream",
     "text": [
      "Grouping the following units: ['GCB', 'GR-BSC', 'GR-SPAIN']\n"
     ]
    }
   ],
   "source": [
    "group = input(\"Enter the units you want to group (comma separated): \")\n",
    "group_list = group.split(',')\n",
    "group = [i.strip() for i in group_list]\n",
    "print(f\"Grouping the following units: {group}\")\n",
    "group_data = data[data['Unit'].isin(group_list)]\n",
    "name = input(\"Enter a name for the group: \")\n",
    "os.makedirs(f\"Group Files/{name}\", exist_ok=True)\n",
    "group_data.to_csv(f\"Group Files/{name}/unit_data_today.csv\", index=False)"
   ]
  },
  {
   "cell_type": "markdown",
   "id": "06ee2d2c",
   "metadata": {},
   "source": [
    "### Outright for Group"
   ]
  },
  {
   "cell_type": "code",
   "execution_count": null,
   "id": "165e417b",
   "metadata": {},
   "outputs": [
    {
     "name": "stderr",
     "output_type": "stream",
     "text": [
      "C:\\Users\\harsh\\AppData\\Local\\Temp\\ipykernel_5512\\11891516.py:11: FutureWarning: DataFrame.applymap has been deprecated. Use DataFrame.map instead.\n",
      "  outright_pivot_table = pivot_table.applymap(lambda x: f\"{x:,.0f}\" if pd.notnull(x) else 0)\n"
     ]
    }
   ],
   "source": [
    "unit_data = pd.read_csv(f\"Group Files/{name}/unit_data_today.csv\")\n",
    "filter_data = unit_data[~unit_data['Trade Type'].isin(['FX','FX_BK'])]\n",
    "pivot_table = filter_data.pivot_table(\n",
    "    columns='M2M Terminal Month',\n",
    "    index='Trade Type',\n",
    "    values='Qty Exposure',\n",
    "    aggfunc='sum',\n",
    "    margins=True,\n",
    "    margins_name='Grand Total',\n",
    ")\n",
    "outright_pivot_table = pivot_table.applymap(lambda x: f\"{x:,.0f}\" if pd.notnull(x) else \"0\")"
   ]
  },
  {
   "cell_type": "markdown",
   "id": "a2f3eb31",
   "metadata": {},
   "source": [
    "### Basis Position for Each Group"
   ]
  },
  {
   "cell_type": "code",
   "execution_count": null,
   "id": "a2438995",
   "metadata": {},
   "outputs": [
    {
     "name": "stderr",
     "output_type": "stream",
     "text": [
      "C:\\Users\\harsh\\AppData\\Local\\Temp\\ipykernel_5512\\2766865501.py:11: FutureWarning: DataFrame.applymap has been deprecated. Use DataFrame.map instead.\n",
      "  basis_pivot_table = pivot_table.applymap(lambda x: f\"{x:,.0f}\" if pd.notnull(x) else 0)\n"
     ]
    }
   ],
   "source": [
    "unit_data = pd.read_csv(f\"Group Files/{name}/unit_data_today.csv\")\n",
    "filter_data = unit_data[unit_data['Transaction Type'].isin(['PHY'])]\n",
    "pivot_table = filter_data.pivot_table(\n",
    "    columns='Shipment Month',\n",
    "    index='Trade Type',\n",
    "    values='Delta Quantity',\n",
    "    aggfunc='sum',\n",
    "    margins=True,\n",
    "    margins_name='Grand Total',\n",
    ")\n",
    "basis_pivot_table = pivot_table.applymap(lambda x: f\"{x:,.0f}\" if pd.notnull(x) else \"0\")"
   ]
  },
  {
   "cell_type": "markdown",
   "id": "08d515c4",
   "metadata": {},
   "source": [
    "### M2M Currency Risk for Each Group"
   ]
  },
  {
   "cell_type": "code",
   "execution_count": null,
   "id": "e81d7256",
   "metadata": {},
   "outputs": [
    {
     "name": "stderr",
     "output_type": "stream",
     "text": [
      "C:\\Users\\harsh\\AppData\\Local\\Temp\\ipykernel_5512\\1434519205.py:11: FutureWarning: DataFrame.applymap has been deprecated. Use DataFrame.map instead.\n",
      "  m2mcurr_pivot_table = pivot_table.applymap(lambda x: f\"{x:,.0f}\" if pd.notnull(x) else 0)\n"
     ]
    }
   ],
   "source": [
    "unit_data = pd.read_csv(f\"Group Files/{name}/unit_data_today.csv\")\n",
    "filter_data = unit_data[unit_data['Transaction Type'].isin(['PHY'])]\n",
    "pivot_table = filter_data.pivot_table(\n",
    "    columns='Shipment Month',\n",
    "    index='Trade Type',\n",
    "    values='M2M Currency Risk',\n",
    "    aggfunc='sum',\n",
    "    margins=True,\n",
    "    margins_name='Grand Total',\n",
    ")\n",
    "m2mcurr_pivot_table = pivot_table.applymap(lambda x: f\"{x:,.0f}\" if pd.notnull(x) else \"0\")"
   ]
  },
  {
   "cell_type": "markdown",
   "id": "4156fd06",
   "metadata": {},
   "source": [
    "### Euro Exposure for Each Group"
   ]
  },
  {
   "cell_type": "code",
   "execution_count": 9,
   "id": "0c305c55",
   "metadata": {},
   "outputs": [
    {
     "name": "stderr",
     "output_type": "stream",
     "text": [
      "C:\\Users\\harsh\\AppData\\Local\\Temp\\ipykernel_5512\\1837864726.py:20: FutureWarning: DataFrame.applymap has been deprecated. Use DataFrame.map instead.\n",
      "  eurexp_pivot_table = pivot_table.applymap(lambda x: f\"{x:,.0f}\" if pd.notnull(x) else \"0\")\n"
     ]
    }
   ],
   "source": [
    "unit_data = pd.read_csv(f\"Group Files/{name}/unit_data_today.csv\")\n",
    "\n",
    "# Filter data for Euro Exposure\n",
    "filter_data = unit_data[(unit_data['Contract Currency'] == 'EUR') & (unit_data['Transaction Type'] == 'PHY')]\n",
    "filter_data2 = unit_data[(unit_data['Exch'] == 'EOP') & (unit_data['Trade Type'].isin(['FUT', 'CALL', 'PUT']))]\n",
    "filter_data3 = unit_data[(unit_data['Contract Currency'] == 'EUR') & (unit_data['Trade Type']== 'FX')]\n",
    "combined = pd.concat([filter_data, filter_data2, filter_data3], ignore_index=True)\n",
    "combined_unique = combined.drop_duplicates()\n",
    "combined_unique[\"Exposure\"] = filter_data['Delta Quantity'] * filter_data['Price'] * -1\n",
    "\n",
    "\n",
    "pivot_table = combined_unique.pivot_table(\n",
    "    columns='Shipment Month',\n",
    "    index='Trade Type',\n",
    "    values='Exposure',\n",
    "    aggfunc='sum',\n",
    "    margins=True,\n",
    "    margins_name='Grand Total',\n",
    ")\n",
    "eurexp_pivot_table = pivot_table.applymap(lambda x: f\"{x:,.0f}\" if pd.notnull(x) else \"0\")"
   ]
  },
  {
   "cell_type": "code",
   "execution_count": 10,
   "id": "ddb3e868",
   "metadata": {},
   "outputs": [],
   "source": [
    "wb = openpyxl.Workbook()\n",
    "excel_path = f\"Group Files/{name}/Position_Pivots.xlsx\"\n",
    "\n",
    "with pd.ExcelWriter(excel_path,engine='openpyxl') as writer:\n",
    "\n",
    "    outright_pivot_table.to_excel(writer,sheet_name='Outright Position')\n",
    "    basis_pivot_table.to_excel(writer,sheet_name='Basis Position')\n",
    "    m2mcurr_pivot_table.to_excel(writer,sheet_name='M2M Currency Risk Position')\n",
    "    eurexp_pivot_table.to_excel(writer,sheet_name='Euro Exposure Position')"
   ]
  }
 ],
 "metadata": {
  "kernelspec": {
   "display_name": ".venv",
   "language": "python",
   "name": "python3"
  },
  "language_info": {
   "codemirror_mode": {
    "name": "ipython",
    "version": 3
   },
   "file_extension": ".py",
   "mimetype": "text/x-python",
   "name": "python",
   "nbconvert_exporter": "python",
   "pygments_lexer": "ipython3",
   "version": "3.13.5"
  }
 },
 "nbformat": 4,
 "nbformat_minor": 5
}
